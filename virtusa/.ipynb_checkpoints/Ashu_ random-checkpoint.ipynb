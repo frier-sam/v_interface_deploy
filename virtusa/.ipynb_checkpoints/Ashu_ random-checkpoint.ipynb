{
 "cells": [
  {
   "cell_type": "code",
   "execution_count": 1,
   "metadata": {},
   "outputs": [
    {
     "ename": "ModuleNotFoundError",
     "evalue": "No module named 'virtusa'",
     "output_type": "error",
     "traceback": [
      "\u001b[1;31m---------------------------------------------------------------------------\u001b[0m",
      "\u001b[1;31mModuleNotFoundError\u001b[0m                       Traceback (most recent call last)",
      "\u001b[1;32m<ipython-input-1-6cdb88ab8c6d>\u001b[0m in \u001b[0;36m<module>\u001b[1;34m()\u001b[0m\n\u001b[0;32m      1\u001b[0m \u001b[1;32mfrom\u001b[0m \u001b[0mdjango\u001b[0m\u001b[1;33m.\u001b[0m\u001b[0mshortcuts\u001b[0m \u001b[1;32mimport\u001b[0m \u001b[0mrender\u001b[0m\u001b[1;33m\u001b[0m\u001b[0m\n\u001b[1;32m----> 2\u001b[1;33m \u001b[1;32mfrom\u001b[0m \u001b[0mvirtusa\u001b[0m \u001b[1;32mimport\u001b[0m \u001b[0mmodels\u001b[0m\u001b[1;33m\u001b[0m\u001b[0m\n\u001b[0m\u001b[0;32m      3\u001b[0m \u001b[1;32mimport\u001b[0m \u001b[0mcsv\u001b[0m\u001b[1;33m\u001b[0m\u001b[0m\n\u001b[0;32m      4\u001b[0m \u001b[1;32mfrom\u001b[0m \u001b[0mpptx\u001b[0m \u001b[1;32mimport\u001b[0m \u001b[0mPresentation\u001b[0m\u001b[1;33m\u001b[0m\u001b[0m\n\u001b[0;32m      5\u001b[0m \u001b[1;33m\u001b[0m\u001b[0m\n",
      "\u001b[1;31mModuleNotFoundError\u001b[0m: No module named 'virtusa'"
     ]
    }
   ],
   "source": [
    "from django.shortcuts import render\n",
    "from virtusa import models\n",
    "import csv\n",
    "from pptx import Presentation\n",
    "\n"
   ]
  },
  {
   "cell_type": "code",
   "execution_count": null,
   "metadata": {},
   "outputs": [],
   "source": [
    "# Create your views here.\n",
    "# home view is for home page\n",
    "def home(request):\n",
    "    cats = models.homeStack.objects.filter(home=True)\n",
    "    mlist = [{'name':i.name,'image':i.image,'summary':i.summary ,'id':i.id,'time':i.date_time,'cats':models.category.objects.filter(homeCategory=i.id),'inps':models.Ml_models.objects.filter(category=i.id)} for i in cats]\n",
    "\n",
    "    return render(request,'index.html',{'models':mlist})\n",
    "\n",
    "# services view is for services\n",
    "def services(request):\n",
    "    cats = models.homeStack.objects.filter(home=True)\n",
    "    mlist = [{'name':i.name,'image':i.image,'summary':i.summary ,'id':i.id,'time':i.date_time,'cats':models.category.objects.filter(homeCategory=i.id),'inps':models.Ml_models.objects.filter(category=i.id)} for i in cats]\n",
    "    c = request.GET.get('cat')\n",
    "    if c is not None:\n",
    "        cats=models.category.objects.filter(homeCategory=c)\n",
    "        i = models.homeStack.objects.get(id=c)\n",
    "\n",
    "        mcatlist =  [{'name':i.name,'summary':i.summary ,'id':i.id,'inps':models.Ml_models.objects.filter(category=i.id)} for i in cats]\n",
    "        mcatlist = sorted(mcatlist, key = lambda i: i['name'])\n",
    "        return render(request,'services.html',{'catList':mcatlist,'modulename': i.name,'mlist':mlist})\n",
    "\n",
    "\n",
    "    k = models.Ml_models.objects.filter(active=True)\n",
    "    cats = models.category.objects.filter(maincategory=True)\n",
    "    mcatlist =  [{'name':i.name,'summary':i.summary ,'id':i.id} for i in cats]\n",
    "    mlist = [{'name':i.name,'content':i.content,'image':i.image,'summary':i.summary} for i in k]\n",
    "    return render(request,'services.html',{'models':mlist,'catList':mcatlist,'mlist':mlist})\n",
    "\n",
    "\n"
   ]
  },
  {
   "cell_type": "code",
   "execution_count": null,
   "metadata": {},
   "outputs": [],
   "source": [
    "#model view is for  individual model\n",
    "def model(request):\n",
    "    name = request.GET['model']\n",
    "    i = models.Ml_models.objects.get(name=name)\n",
    "    cats = models.homeStack.objects.filter(home=True)\n",
    "    mulist = [{'name':i.name,'image':i.image,'summary':i.summary ,'id':i.id,'time':i.date_time,'cats':models.category.objects.filter(homeCategory=i.id),'inps':models.Ml_models.objects.filter(category=i.id)} for i in cats]\n",
    "    inps =[]\n",
    "    with open(i.inputs_csv.url.split('/',1)[1], 'r') as csvFile:\n",
    "        reader = csv.reader(csvFile)\n",
    "        for row in reader:\n",
    "            inps.append({0:row[0],1:row[1]})\n",
    "\n",
    "    mlist = {'name':i.name,'image':i.image,'summary':i.summary,'content':i.content,'extras':i.extras,'endpoint':i.url,'inputs_csv':inps,'result':i.result_key,'slide':i.slideUrl,'time':i.date_time}\n",
    "\n",
    "    return render(request,'indview.html',{'model':mlist,'mlist':mulist})"
   ]
  }
 ],
 "metadata": {
  "kernelspec": {
   "display_name": "Python 3",
   "language": "python",
   "name": "python3"
  },
  "language_info": {
   "codemirror_mode": {
    "name": "ipython",
    "version": 3
   },
   "file_extension": ".py",
   "mimetype": "text/x-python",
   "name": "python",
   "nbconvert_exporter": "python",
   "pygments_lexer": "ipython3",
   "version": "3.6.4"
  }
 },
 "nbformat": 4,
 "nbformat_minor": 2
}
